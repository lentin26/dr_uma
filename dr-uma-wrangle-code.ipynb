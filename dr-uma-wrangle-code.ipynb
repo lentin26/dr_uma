{
 "cells": [
  {
   "cell_type": "markdown",
   "metadata": {},
   "source": [
    "# Data Wrangling Dr. Uma \n",
    "12/10/2022"
   ]
  },
  {
   "cell_type": "code",
   "execution_count": 1,
   "metadata": {},
   "outputs": [
    {
     "ename": "",
     "evalue": "",
     "output_type": "error",
     "traceback": [
      "\u001b[1;31mThe Kernel crashed while executing code in the the current cell or a previous cell. Please review the code in the cell(s) to identify a possible cause of the failure. Click <a href='https://aka.ms/vscodeJupyterKernelCrash'>here</a> for more info. View Jupyter <a href='command:jupyter.viewOutput'>log</a> for further details."
     ]
    },
    {
     "ename": "",
     "evalue": "",
     "output_type": "error",
     "traceback": [
      "\u001b[1;31mCanceled future for execute_request message before replies were done"
     ]
    }
   ],
   "source": [
    "import pandas as pd"
   ]
  },
  {
   "cell_type": "code",
   "execution_count": 1,
   "metadata": {},
   "outputs": [
    {
     "ename": "",
     "evalue": "",
     "output_type": "error",
     "traceback": [
      "\u001b[1;31mThe Kernel crashed while executing code in the the current cell or a previous cell. Please review the code in the cell(s) to identify a possible cause of the failure. Click <a href='https://aka.ms/vscodeJupyterKernelCrash'>here</a> for more info. View Jupyter <a href='command:jupyter.viewOutput'>log</a> for further details."
     ]
    },
    {
     "ename": "",
     "evalue": "",
     "output_type": "error",
     "traceback": [
      "\u001b[1;31mCanceled future for execute_request message before replies were done"
     ]
    }
   ],
   "source": [
    "import pandas as pd\n",
    "import numpy as np"
   ]
  },
  {
   "cell_type": "code",
   "execution_count": 1,
   "metadata": {},
   "outputs": [
    {
     "ename": "NameError",
     "evalue": "name 'pd' is not defined",
     "output_type": "error",
     "traceback": [
      "\u001b[0;31m---------------------------------------------------------------------------\u001b[0m",
      "\u001b[0;31mNameError\u001b[0m                                 Traceback (most recent call last)",
      "Cell \u001b[0;32mIn [1], line 2\u001b[0m\n\u001b[1;32m      1\u001b[0m \u001b[38;5;66;03m# import data\u001b[39;00m\n\u001b[0;32m----> 2\u001b[0m data \u001b[38;5;241m=\u001b[39m \u001b[43mpd\u001b[49m\u001b[38;5;241m.\u001b[39mread_excel(\u001b[38;5;124m'\u001b[39m\u001b[38;5;124mtestdata.xlsx\u001b[39m\u001b[38;5;124m'\u001b[39m)\n\u001b[1;32m      3\u001b[0m data\u001b[38;5;241m.\u001b[39mhead()\n",
      "\u001b[0;31mNameError\u001b[0m: name 'pd' is not defined"
     ]
    }
   ],
   "source": [
    "# import data\n",
    "data = pd.read_excel('testdata.xlsx')\n",
    "data.head()"
   ]
  },
  {
   "cell_type": "code",
   "execution_count": 5,
   "metadata": {},
   "outputs": [
    {
     "data": {
      "text/html": [
       "<div>\n",
       "<style scoped>\n",
       "    .dataframe tbody tr th:only-of-type {\n",
       "        vertical-align: middle;\n",
       "    }\n",
       "\n",
       "    .dataframe tbody tr th {\n",
       "        vertical-align: top;\n",
       "    }\n",
       "\n",
       "    .dataframe thead th {\n",
       "        text-align: right;\n",
       "    }\n",
       "</style>\n",
       "<table border=\"1\" class=\"dataframe\">\n",
       "  <thead>\n",
       "    <tr style=\"text-align: right;\">\n",
       "      <th></th>\n",
       "      <th>SUBJECT</th>\n",
       "      <th>LENGTH\\nOF\\nCASE</th>\n",
       "      <th>Monitor clock time</th>\n",
       "      <th>PSI</th>\n",
       "      <th>PSI&lt;25 i.e. burst suppression (1=Y, 2=N)</th>\n",
       "      <th># of burst suppressions for case</th>\n",
       "      <th>Burst suppression duration each (sec)</th>\n",
       "      <th>Burst suppression duration total for case (sec)</th>\n",
       "    </tr>\n",
       "  </thead>\n",
       "  <tbody>\n",
       "    <tr>\n",
       "      <th>0</th>\n",
       "      <td>SUBJECT</td>\n",
       "      <td>LENGTH\\nOF\\nCASE</td>\n",
       "      <td>Monitor clock time</td>\n",
       "      <td>PSI</td>\n",
       "      <td>PSI&lt;25 i.e. burst suppression (1=Y, 2=N)</td>\n",
       "      <td># of burst suppressions for case</td>\n",
       "      <td>Burst suppression duration each (sec)</td>\n",
       "      <td>Burst suppression duration total for case (sec)</td>\n",
       "    </tr>\n",
       "    <tr>\n",
       "      <th>1</th>\n",
       "      <td>11</td>\n",
       "      <td>00:28:00</td>\n",
       "      <td>07:29:35</td>\n",
       "      <td>100</td>\n",
       "      <td>NaN</td>\n",
       "      <td>NaN</td>\n",
       "      <td>NaN</td>\n",
       "      <td>NaN</td>\n",
       "    </tr>\n",
       "    <tr>\n",
       "      <th>2</th>\n",
       "      <td>NaN</td>\n",
       "      <td>NaN</td>\n",
       "      <td>07:29:37</td>\n",
       "      <td>100</td>\n",
       "      <td>NaN</td>\n",
       "      <td>NaN</td>\n",
       "      <td>NaN</td>\n",
       "      <td>NaN</td>\n",
       "    </tr>\n",
       "    <tr>\n",
       "      <th>3</th>\n",
       "      <td>NaN</td>\n",
       "      <td>NaN</td>\n",
       "      <td>07:29:39</td>\n",
       "      <td>100</td>\n",
       "      <td>NaN</td>\n",
       "      <td>NaN</td>\n",
       "      <td>NaN</td>\n",
       "      <td>NaN</td>\n",
       "    </tr>\n",
       "    <tr>\n",
       "      <th>4</th>\n",
       "      <td>NaN</td>\n",
       "      <td>NaN</td>\n",
       "      <td>07:29:41</td>\n",
       "      <td>100</td>\n",
       "      <td>NaN</td>\n",
       "      <td>NaN</td>\n",
       "      <td>NaN</td>\n",
       "      <td>NaN</td>\n",
       "    </tr>\n",
       "  </tbody>\n",
       "</table>\n",
       "</div>"
      ],
      "text/plain": [
       "0  SUBJECT  LENGTH\\nOF\\nCASE  Monitor clock time  PSI  \\\n",
       "0  SUBJECT  LENGTH\\nOF\\nCASE  Monitor clock time  PSI   \n",
       "1       11          00:28:00            07:29:35  100   \n",
       "2      NaN               NaN            07:29:37  100   \n",
       "3      NaN               NaN            07:29:39  100   \n",
       "4      NaN               NaN            07:29:41  100   \n",
       "\n",
       "0  PSI<25 i.e. burst suppression (1=Y, 2=N)  # of burst suppressions for case  \\\n",
       "0  PSI<25 i.e. burst suppression (1=Y, 2=N)  # of burst suppressions for case   \n",
       "1                                       NaN                               NaN   \n",
       "2                                       NaN                               NaN   \n",
       "3                                       NaN                               NaN   \n",
       "4                                       NaN                               NaN   \n",
       "\n",
       "0  Burst suppression duration each (sec)  \\\n",
       "0  Burst suppression duration each (sec)   \n",
       "1                                    NaN   \n",
       "2                                    NaN   \n",
       "3                                    NaN   \n",
       "4                                    NaN   \n",
       "\n",
       "0  Burst suppression duration total for case (sec)  \n",
       "0  Burst suppression duration total for case (sec)  \n",
       "1                                              NaN  \n",
       "2                                              NaN  \n",
       "3                                              NaN  \n",
       "4                                              NaN  "
      ]
     },
     "execution_count": 5,
     "metadata": {},
     "output_type": "execute_result"
    }
   ],
   "source": [
    "# clean data\n",
    "# fix column headers\n",
    "data.columns = data.iloc[0, :]\n",
    "# drop first row\n",
    "data = data.drop(0, axis=0)\n",
    "# forward fill missing data\n",
    "data = data.ffill()\n",
    "# select required columns\n",
    "data = data.iloc[:, [0, 1, 2, 3]]\n",
    "# fix columns names\n",
    "data = data.rename(columns={'LENGTH\\nOF\\nCASE':'length of case'})\n",
    "# show header\n",
    "data.head()"
   ]
  },
  {
   "cell_type": "code",
   "execution_count": 239,
   "metadata": {},
   "outputs": [
    {
     "data": {
      "text/html": [
       "<div>\n",
       "<style scoped>\n",
       "    .dataframe tbody tr th:only-of-type {\n",
       "        vertical-align: middle;\n",
       "    }\n",
       "\n",
       "    .dataframe tbody tr th {\n",
       "        vertical-align: top;\n",
       "    }\n",
       "\n",
       "    .dataframe thead th {\n",
       "        text-align: right;\n",
       "    }\n",
       "</style>\n",
       "<table border=\"1\" class=\"dataframe\">\n",
       "  <thead>\n",
       "    <tr style=\"text-align: right;\">\n",
       "      <th></th>\n",
       "      <th>SUBJECT</th>\n",
       "      <th>length of case</th>\n",
       "      <th>Monitor clock time</th>\n",
       "      <th>PSI</th>\n",
       "      <th>less than 25</th>\n",
       "      <th>number of burst supressions</th>\n",
       "      <th>burst_duration</th>\n",
       "      <th>seconds</th>\n",
       "    </tr>\n",
       "  </thead>\n",
       "  <tbody>\n",
       "    <tr>\n",
       "      <th>0</th>\n",
       "      <td>11</td>\n",
       "      <td>28</td>\n",
       "      <td>07:29:35</td>\n",
       "      <td>100.0</td>\n",
       "      <td>0</td>\n",
       "      <td>NaN</td>\n",
       "      <td>NaN</td>\n",
       "      <td>26975</td>\n",
       "    </tr>\n",
       "    <tr>\n",
       "      <th>1</th>\n",
       "      <td>11</td>\n",
       "      <td>28</td>\n",
       "      <td>07:29:37</td>\n",
       "      <td>100.0</td>\n",
       "      <td>0</td>\n",
       "      <td>NaN</td>\n",
       "      <td>NaN</td>\n",
       "      <td>26977</td>\n",
       "    </tr>\n",
       "    <tr>\n",
       "      <th>2</th>\n",
       "      <td>11</td>\n",
       "      <td>28</td>\n",
       "      <td>07:29:39</td>\n",
       "      <td>100.0</td>\n",
       "      <td>0</td>\n",
       "      <td>NaN</td>\n",
       "      <td>NaN</td>\n",
       "      <td>26979</td>\n",
       "    </tr>\n",
       "    <tr>\n",
       "      <th>3</th>\n",
       "      <td>11</td>\n",
       "      <td>28</td>\n",
       "      <td>07:29:41</td>\n",
       "      <td>100.0</td>\n",
       "      <td>0</td>\n",
       "      <td>NaN</td>\n",
       "      <td>NaN</td>\n",
       "      <td>26981</td>\n",
       "    </tr>\n",
       "    <tr>\n",
       "      <th>4</th>\n",
       "      <td>11</td>\n",
       "      <td>28</td>\n",
       "      <td>07:29:43</td>\n",
       "      <td>100.0</td>\n",
       "      <td>0</td>\n",
       "      <td>NaN</td>\n",
       "      <td>NaN</td>\n",
       "      <td>26983</td>\n",
       "    </tr>\n",
       "  </tbody>\n",
       "</table>\n",
       "</div>"
      ],
      "text/plain": [
       "0 SUBJECT  length of case Monitor clock time    PSI  less than 25  \\\n",
       "0      11              28           07:29:35  100.0             0   \n",
       "1      11              28           07:29:37  100.0             0   \n",
       "2      11              28           07:29:39  100.0             0   \n",
       "3      11              28           07:29:41  100.0             0   \n",
       "4      11              28           07:29:43  100.0             0   \n",
       "\n",
       "0  number of burst supressions  burst_duration  seconds  \n",
       "0                          NaN             NaN    26975  \n",
       "1                          NaN             NaN    26977  \n",
       "2                          NaN             NaN    26979  \n",
       "3                          NaN             NaN    26981  \n",
       "4                          NaN             NaN    26983  "
      ]
     },
     "execution_count": 239,
     "metadata": {},
     "output_type": "execute_result"
    }
   ],
   "source": [
    "# copy data\n",
    "data_ = data.copy()\n",
    "\n",
    "# replace strings with NaNs\n",
    "data_.PSI = data_.PSI.replace('-', np.nan)\n",
    "\n",
    "# fill in missing values by forward filling\n",
    "data_ = data_.ffill()\n",
    "\n",
    "# add column to indicate regions where PSI drops below 25\n",
    "data_['less than 25'] = (data_.PSI.astype(int) <= 25).astype(int)\n",
    "\n",
    "# column to record number of burst supressions, burst duration\n",
    "data_['number of burst supressions'] = np.nan\n",
    "data_['burst_duration'] = np.nan\n",
    "\n",
    "# convert clock time into sections\n",
    "clock_list = np.array(data_['Monitor clock time'].astype(str).str.split(':').tolist()).astype(int).copy()\n",
    "data_['seconds']  = clock_list[:, 0] * 3600 + clock_list[:, 1] * 60 + clock_list[:, 2]\n",
    "\n",
    "# convert length of case into integer seconds\n",
    "seconds_list = np.array(data_['length of case'].astype(str).str.split(':').tolist()).astype(int).copy()\n",
    "data_['length of case'] = seconds_list[:, 1]\n",
    "\n",
    "# sort values\n",
    "data_.sort_values(['seconds', 'SUBJECT'])\n",
    "\n",
    "# reset inded\n",
    "data_.reset_index(inplace=True, drop=True)\n",
    "data_.head()"
   ]
  },
  {
   "cell_type": "markdown",
   "metadata": {},
   "source": [
    "Write functions to measure the number of bursts and burst duration"
   ]
  },
  {
   "cell_type": "code",
   "execution_count": 211,
   "metadata": {},
   "outputs": [],
   "source": [
    "# count the number of contiguous regions\n",
    "def contiguous_regions(x):\n",
    "    count = 0\n",
    "    j = 1\n",
    "    for i in x['less than 25']:\n",
    "        if j == 1:\n",
    "            # i indicate the start of a region where PSI is less than 25\n",
    "            if i == 1:\n",
    "                count +=1\n",
    "                j = 0\n",
    "        # when continugous region ends switch j back to 1\n",
    "        else:\n",
    "            if i == 0:\n",
    "                j = 1\n",
    "    return count\n",
    "\n",
    "def burst_duration(x):\n",
    "    # get the duration of each burst\n",
    "    time_delta = []\n",
    "    j = 1\n",
    "    for k, i in enumerate(x['less than 25']):\n",
    "        if j == 1:\n",
    "            # i indicate the start of a region where PSI is less than 25\n",
    "            if i == 1:\n",
    "                start_time = x.seconds[k]\n",
    "                j = 0\n",
    "        # when continugous region ends switch j back to 1\n",
    "        else:\n",
    "            if i == 0:\n",
    "                time_delta.append(end_time - start_time)\n",
    "                j = 1\n",
    "        end_time = x.seconds[k]\n",
    "    return time_delta\n"
   ]
  },
  {
   "cell_type": "code",
   "execution_count": 262,
   "metadata": {},
   "outputs": [
    {
     "data": {
      "text/plain": [
       "array([['11', 1, 124, 1, 124],\n",
       "       ['12', 2, 36, 7, 350],\n",
       "       ['12', 3, 38, 7, 350],\n",
       "       ['12', 4, 54, 7, 350],\n",
       "       ['12', 5, 48, 7, 350],\n",
       "       ['12', 6, 90, 7, 350],\n",
       "       ['12', 7, 40, 7, 350],\n",
       "       ['12', 8, 44, 7, 350],\n",
       "       ['13', 9, 36, 2, 36],\n",
       "       ['14', 10, 2, 2, 10]], dtype=object)"
      ]
     },
     "execution_count": 262,
     "metadata": {},
     "output_type": "execute_result"
    }
   ],
   "source": [
    "results = np.zeros((10000, 5), dtype='object')\n",
    "j = 0\n",
    "for i in data_.SUBJECT.unique():\n",
    "    # get data correspondingto subject i\n",
    "    x = data_[data_.SUBJECT == i].reset_index().copy()\n",
    "    # get list of burst durations for subject i\n",
    "    durations = burst_duration(x)\n",
    "    # get the number of regions\n",
    "    n_regions = contiguous_regions(x)\n",
    "    # get total burst duration\n",
    "    total_duration = sum(durations)\n",
    "    # update array\n",
    "    for duration in durations:\n",
    "        results[j, 0] = str(i) # subject \n",
    "        results[j, 1] = int(j + 1)  # burst_id\n",
    "        results[j, 2] = int(duration)  # burst duration\n",
    "        results[j, 3] = int(n_regions)  # total bursts for subject \n",
    "        results[j, 4] = int(total_duration)  # total burst duration\n",
    "        j += 1\n",
    "\n",
    "# header of results\n",
    "results[:10, :]"
   ]
  },
  {
   "cell_type": "code",
   "execution_count": 3,
   "metadata": {},
   "outputs": [
    {
     "ename": "NameError",
     "evalue": "name 'pd' is not defined",
     "output_type": "error",
     "traceback": [
      "\u001b[0;31m---------------------------------------------------------------------------\u001b[0m",
      "\u001b[0;31mNameError\u001b[0m                                 Traceback (most recent call last)",
      "Cell \u001b[0;32mIn [3], line 2\u001b[0m\n\u001b[1;32m      1\u001b[0m \u001b[38;5;66;03m# copy result into dataframe\u001b[39;00m\n\u001b[0;32m----> 2\u001b[0m results_ \u001b[38;5;241m=\u001b[39m \u001b[43mpd\u001b[49m\u001b[38;5;241m.\u001b[39mDataFrame(results)\u001b[38;5;241m.\u001b[39mcopy()\n\u001b[1;32m      4\u001b[0m \u001b[38;5;66;03m# drop extra rows allocated to array\u001b[39;00m\n\u001b[1;32m      5\u001b[0m results_ \u001b[38;5;241m=\u001b[39m results_[results_[\u001b[38;5;241m0\u001b[39m] \u001b[38;5;241m!=\u001b[39m \u001b[38;5;241m0\u001b[39m]\n",
      "\u001b[0;31mNameError\u001b[0m: name 'pd' is not defined"
     ]
    }
   ],
   "source": [
    "# copy result into dataframe\n",
    "results_ = pd.DataFrame(results).copy()\n",
    "\n",
    "# drop extra rows allocated to array\n",
    "results_ = results_[results_[0] != 0]\n",
    "\n",
    "# label columns\n",
    "results_.columns = ['subject', 'burst_id', 'burst suppression duration (s)', 'burst supression regions', 'total burst duration (s)']\n",
    "\n",
    "# join length of case column to results\n",
    "results_ = results_.merge(data_[['SUBJECT', 'length of case']].drop_duplicates(), left_on='subject', right_on='SUBJECT').drop('SUBJECT', axis=1)\n",
    "\n",
    "results_.head()"
   ]
  },
  {
   "cell_type": "code",
   "execution_count": 1,
   "metadata": {},
   "outputs": [
    {
     "ename": "NameError",
     "evalue": "name 'results_' is not defined",
     "output_type": "error",
     "traceback": [
      "\u001b[0;31m---------------------------------------------------------------------------\u001b[0m",
      "\u001b[0;31mNameError\u001b[0m                                 Traceback (most recent call last)",
      "Cell \u001b[0;32mIn [1], line 2\u001b[0m\n\u001b[1;32m      1\u001b[0m \u001b[38;5;66;03m# save data\u001b[39;00m\n\u001b[0;32m----> 2\u001b[0m \u001b[43mresults_\u001b[49m\u001b[38;5;241m.\u001b[39mto_csv(\u001b[38;5;124m'\u001b[39m\u001b[38;5;124mtestdata-clean.csv\u001b[39m\u001b[38;5;124m'\u001b[39m)\n",
      "\u001b[0;31mNameError\u001b[0m: name 'results_' is not defined"
     ]
    }
   ],
   "source": [
    "# save data\n",
    "results_.to_csv('testdata-clean.csv')"
   ]
  },
  {
   "cell_type": "code",
   "execution_count": 2,
   "metadata": {},
   "outputs": [
    {
     "ename": "NameError",
     "evalue": "name 'results_' is not defined",
     "output_type": "error",
     "traceback": [
      "\u001b[0;31m---------------------------------------------------------------------------\u001b[0m",
      "\u001b[0;31mNameError\u001b[0m                                 Traceback (most recent call last)",
      "Cell \u001b[0;32mIn [2], line 1\u001b[0m\n\u001b[0;32m----> 1\u001b[0m \u001b[43mresults_\u001b[49m\n",
      "\u001b[0;31mNameError\u001b[0m: name 'results_' is not defined"
     ]
    }
   ],
   "source": [
    "results_"
   ]
  },
  {
   "cell_type": "code",
   "execution_count": null,
   "metadata": {},
   "outputs": [],
   "source": []
  }
 ],
 "metadata": {
  "kernelspec": {
   "display_name": "Python 3.8.9 ('venv': venv)",
   "language": "python",
   "name": "python3"
  },
  "language_info": {
   "codemirror_mode": {
    "name": "ipython",
    "version": 3
   },
   "file_extension": ".py",
   "mimetype": "text/x-python",
   "name": "python",
   "nbconvert_exporter": "python",
   "pygments_lexer": "ipython3",
   "version": "3.8.9"
  },
  "orig_nbformat": 4,
  "vscode": {
   "interpreter": {
    "hash": "ce8ead1b568e938ed306d5191b27c46cb6ea4ff042fb8b4afbcc204aa3f1f429"
   }
  }
 },
 "nbformat": 4,
 "nbformat_minor": 2
}
